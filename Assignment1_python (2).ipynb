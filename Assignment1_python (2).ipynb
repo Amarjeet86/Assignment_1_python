{
 "cells": [
  {
   "cell_type": "markdown",
   "id": "533f7864",
   "metadata": {},
   "source": [
    "Q1.Declare two variables, x and y, and assign them integer values. Swap the values of these variables without using any temporary variable."
   ]
  },
  {
   "cell_type": "code",
   "execution_count": 1,
   "id": "19c3a030",
   "metadata": {},
   "outputs": [
    {
     "name": "stdout",
     "output_type": "stream",
     "text": [
      "before swapping:\n",
      "value of x:  8  and y:  5\n"
     ]
    }
   ],
   "source": [
    "x = 8\n",
    "y = 5\n",
    "print(\"before swapping:\")\n",
    "print (\"value of x: \",x, \" and y: \",y)"
   ]
  },
  {
   "cell_type": "code",
   "execution_count": 2,
   "id": "e3deef7c",
   "metadata": {},
   "outputs": [
    {
     "name": "stdout",
     "output_type": "stream",
     "text": [
      "after swapping: \n",
      "value of x:  5 and y:  8\n"
     ]
    }
   ],
   "source": [
    "x,y = y,x\n",
    "print(\"after swapping: \")\n",
    "print(\"value of x: \",x, \"and y: \",y)"
   ]
  },
  {
   "cell_type": "markdown",
   "id": "7a9d9545",
   "metadata": {},
   "source": [
    "Q2. Create a program that calculates the area of a rectangle. Take the length and width as inputs from the user and store them in variables. Calculate and display the area."
   ]
  },
  {
   "cell_type": "code",
   "execution_count": 3,
   "id": "12b4c4b3",
   "metadata": {},
   "outputs": [
    {
     "name": "stdout",
     "output_type": "stream",
     "text": [
      "enter the width of a rectangle:10\n",
      "enter the height of a rectangle:5\n"
     ]
    }
   ],
   "source": [
    "W = float(input('enter the width of a rectangle:'))\n",
    "H = float(input('enter the height of a rectangle:'))"
   ]
  },
  {
   "cell_type": "code",
   "execution_count": 4,
   "id": "7a3c5055",
   "metadata": {},
   "outputs": [
    {
     "name": "stdout",
     "output_type": "stream",
     "text": [
      "\n",
      " Area of a rectangle is: 50.000000\n"
     ]
    }
   ],
   "source": [
    "Area = W*H\n",
    "print(\"\\n Area of a rectangle is: %f\" % Area)"
   ]
  },
  {
   "cell_type": "markdown",
   "id": "f524973e",
   "metadata": {},
   "source": [
    "Q3. Write a Python program that converts temperature from Celsius to Fahrenheit. Take the temperature in Celsius as input, store it in a variable, convert it to Fahrenheit, and display the result."
   ]
  },
  {
   "cell_type": "code",
   "execution_count": 5,
   "id": "c65764d0",
   "metadata": {},
   "outputs": [
    {
     "name": "stdout",
     "output_type": "stream",
     "text": [
      "Enter temperature in celsius: 35\n",
      "35.0 degree Celsius is equal to 95.0 degree Fahrenheit.\n"
     ]
    }
   ],
   "source": [
    "celsius = float(input(\"Enter temperature in celsius: \"))\n",
    "fahrenheit = (celsius * 1.8) + 32\n",
    "print(str(celsius )+ \" degree Celsius is equal to \" + str(fahrenheit )+\" degree Fahrenheit.\")"
   ]
  },
  {
   "cell_type": "markdown",
   "id": "4f1ccf84",
   "metadata": {},
   "source": [
    "STRING BASED QUESTIONS\n",
    "\n",
    "Q1. Write a Python program that takes a string as input and prints the length of the string."
   ]
  },
  {
   "cell_type": "code",
   "execution_count": 6,
   "id": "823befc7",
   "metadata": {},
   "outputs": [
    {
     "name": "stdout",
     "output_type": "stream",
     "text": [
      "enter the string: pwskills\n",
      "length of the string is:  8\n"
     ]
    }
   ],
   "source": [
    "s=input(\"enter the string: \")\n",
    "print(\"length of the string is: \",len(s))"
   ]
  },
  {
   "cell_type": "markdown",
   "id": "8d160a4d",
   "metadata": {},
   "source": [
    "Q2. Create a program that takes a sentence from the user and counts the number of vowels (a, e, i, o, u) in the string."
   ]
  },
  {
   "cell_type": "code",
   "execution_count": 15,
   "id": "0859fea1",
   "metadata": {},
   "outputs": [
    {
     "name": "stdout",
     "output_type": "stream",
     "text": [
      "The string is: my name is Amarjeet\n",
      "7\n"
     ]
    }
   ],
   "source": [
    "s= input(\"The string is: \")\n",
    "vowels='aeiouAEIOU'\n",
    "count = sum(s.count(vowel) for vowel in vowels)\n",
    "print(count)"
   ]
  },
  {
   "cell_type": "markdown",
   "id": "1063f19b",
   "metadata": {},
   "source": [
    "Q3.Given a string, reverse the order of characters using string slicing and print the reversed string."
   ]
  },
  {
   "cell_type": "code",
   "execution_count": 18,
   "id": "2834f240",
   "metadata": {},
   "outputs": [
    {
     "data": {
      "text/plain": [
       "'assignment'"
      ]
     },
     "execution_count": 18,
     "metadata": {},
     "output_type": "execute_result"
    }
   ],
   "source": [
    "s=\"assignment\"\n",
    "s"
   ]
  },
  {
   "cell_type": "code",
   "execution_count": 19,
   "id": "d790438f",
   "metadata": {},
   "outputs": [
    {
     "name": "stdout",
     "output_type": "stream",
     "text": [
      "The reverse string is:  tnemngissa\n"
     ]
    }
   ],
   "source": [
    "s1=s[::-1]\n",
    "print(\"The reverse string is: \",s1)"
   ]
  },
  {
   "cell_type": "markdown",
   "id": "bc825d3d",
   "metadata": {},
   "source": [
    "Write a program that takes a string as input and checks if it is a palindrome (reads the same forwards and backwards)."
   ]
  },
  {
   "cell_type": "code",
   "execution_count": 20,
   "id": "4ac6e1bd",
   "metadata": {},
   "outputs": [
    {
     "name": "stdout",
     "output_type": "stream",
     "text": [
      "enter the string:malayalam\n"
     ]
    }
   ],
   "source": [
    "def isPalindrome(s):\n",
    "    return s == s[::-1]\n",
    "s = input(\"enter the string:\")"
   ]
  },
  {
   "cell_type": "code",
   "execution_count": 21,
   "id": "bf4ee702",
   "metadata": {},
   "outputs": [
    {
     "name": "stdout",
     "output_type": "stream",
     "text": [
      "Yes\n"
     ]
    }
   ],
   "source": [
    "ans = isPalindrome(s) \n",
    "if ans:\n",
    "    print(\"Yes\")\n",
    "else:\n",
    "    print(\"No\")"
   ]
  },
  {
   "cell_type": "markdown",
   "id": "a077ec20",
   "metadata": {},
   "source": [
    "Q5. Create a program that takes a string as input and removes all the spaces from it. Print the modified string without spaces."
   ]
  },
  {
   "cell_type": "code",
   "execution_count": 22,
   "id": "dcbfa070",
   "metadata": {},
   "outputs": [
    {
     "name": "stdout",
     "output_type": "stream",
     "text": [
      "pwskillsassignmentnumber1\n"
     ]
    }
   ],
   "source": [
    "def remove(string):\n",
    "    return string.replace(\" \", \"\")\n",
    "string = 'pwskills assignment number 1 '\n",
    "print(remove(string))"
   ]
  },
  {
   "cell_type": "code",
   "execution_count": null,
   "id": "1c445f7f",
   "metadata": {},
   "outputs": [],
   "source": []
  }
 ],
 "metadata": {
  "kernelspec": {
   "display_name": "Python 3 (ipykernel)",
   "language": "python",
   "name": "python3"
  },
  "language_info": {
   "codemirror_mode": {
    "name": "ipython",
    "version": 3
   },
   "file_extension": ".py",
   "mimetype": "text/x-python",
   "name": "python",
   "nbconvert_exporter": "python",
   "pygments_lexer": "ipython3",
   "version": "3.11.3"
  }
 },
 "nbformat": 4,
 "nbformat_minor": 5
}
